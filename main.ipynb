{
 "cells": [
  {
   "cell_type": "markdown",
   "metadata": {},
   "source": [
    "# MERGE"
   ]
  },
  {
   "cell_type": "code",
   "execution_count": 3,
   "metadata": {},
   "outputs": [],
   "source": [
    "from module.merge.merge_csv import *\n",
    "merge_csv(\"/Users/VPV/Desktop/testCsv\")"
   ]
  },
  {
   "cell_type": "code",
   "execution_count": 1,
   "metadata": {},
   "outputs": [],
   "source": [
    "from module.merge.merge_excel_sheet import *\n",
    "merge_excel_sheet(\"/Users/VPV/Desktop/211119francheville/source/reunions_publiques_oct_nov_2021.xlsx\")"
   ]
  },
  {
   "cell_type": "code",
   "execution_count": 2,
   "metadata": {},
   "outputs": [],
   "source": [
    "from module.merge.merge_on_first_last import *\n",
    "# file 1 and file 2 to join, join on file 1\n",
    "merge_on_first_last(\"/Users/VPV/Desktop/cd95/cd95NoKeyword.csv\",\"/Users/VPV/Desktop/cd95/bddALH.csv\")"
   ]
  },
  {
   "cell_type": "code",
   "execution_count": null,
   "metadata": {},
   "outputs": [],
   "source": [
    "from module.merge.merge_on_first_last_date import *\n",
    "merge_on_first_last_date(\"\",\"\")"
   ]
  },
  {
   "cell_type": "code",
   "execution_count": 3,
   "metadata": {},
   "outputs": [],
   "source": [
    "from module.merge.merge_excel import *\n",
    "merge_excel(\"/Users/VPV/Desktop/211104kerbarh/selected\")"
   ]
  },
  {
   "cell_type": "code",
   "execution_count": 3,
   "metadata": {},
   "outputs": [],
   "source": [
    "from module.merge.merge_on_electoral_phonebook import *\n",
    "#param 1 = electoral list and parma 2 = phonebook\n",
    "merge_on_electoral_phonebook(\"\",\"\")"
   ]
  },
  {
   "cell_type": "code",
   "execution_count": null,
   "metadata": {},
   "outputs": [],
   "source": []
  },
  {
   "cell_type": "markdown",
   "metadata": {},
   "source": [
    "# CLEAN"
   ]
  },
  {
   "cell_type": "code",
   "execution_count": 15,
   "metadata": {},
   "outputs": [],
   "source": [
    "from module.clean_fr.clean_electoral_fr import clean_electoral_fr\n",
    "clean_electoral_fr(\"/Users/VPV/Dropbox/DigitaleBox/DB Relation Client/Base de données/Francoix Xavier Dugourd Dijon/211018dijonDep21/source/Emargement Dijon 1 DEP 2021.csv\")"
   ]
  },
  {
   "cell_type": "code",
   "execution_count": 1,
   "metadata": {},
   "outputs": [],
   "source": [
    "from module.clean_fr.clean_file_fr import clean_file_fr\n",
    "clean_file_fr (\"/Users/VPV/Desktop/211202ppicard/draft/Liste electorale Congres 01122021.csv\")"
   ]
  },
  {
   "cell_type": "code",
   "execution_count": null,
   "metadata": {},
   "outputs": [],
   "source": [
    "from module.clean.unique_address import unique_address\n",
    "unique_address(\"\")"
   ]
  },
  {
   "cell_type": "code",
   "execution_count": null,
   "metadata": {},
   "outputs": [],
   "source": [
    "from module.clean.clean_character import clean_character\n",
    "clean_character(\"/Users/VPV/Desktop/pandas/1DraftCsvMerge.csv\")"
   ]
  },
  {
   "cell_type": "code",
   "execution_count": null,
   "metadata": {},
   "outputs": [],
   "source": [
    "from module.clean.clean_header import clean_header\n",
    "clean_header(\"/Users/VPV/Desktop/testCsv\")"
   ]
  },
  {
   "cell_type": "code",
   "execution_count": null,
   "metadata": {},
   "outputs": [],
   "source": [
    "from module.clean.autofill import autofill\n",
    "autofill(\"/Users/VPV/Desktop/pandas/merge_excel_sheet.csv\")"
   ]
  },
  {
   "cell_type": "markdown",
   "metadata": {},
   "source": [
    "# SPLIT"
   ]
  },
  {
   "cell_type": "code",
   "execution_count": null,
   "metadata": {},
   "outputs": [],
   "source": [
    "# Encoding winlatin1\n",
    "\n",
    "from module.split.split_file import *\n",
    "split_file(\"/Users/VPV/Desktop/test/1DraftCsvMerge.csv\")"
   ]
  },
  {
   "cell_type": "markdown",
   "metadata": {},
   "source": [
    "# EXTRACT"
   ]
  },
  {
   "cell_type": "code",
   "execution_count": null,
   "metadata": {},
   "outputs": [],
   "source": [
    "from module.extract.extract_firstname_lastname import *\n",
    "extract_firstname_lastname(\"/Users/VPV/Desktop/211119francheville/draft/newsletter.csv\")"
   ]
  },
  {
   "cell_type": "code",
   "execution_count": null,
   "metadata": {},
   "outputs": [],
   "source": [
    "from module.extract_email_mobile import *\n",
    "extract_email_mobile(\"/Users/VPV/Desktop/210705tassin/draft/20210702 FAITES VALOIR VOTRE AVIS.csv\")"
   ]
  },
  {
   "cell_type": "code",
   "execution_count": null,
   "metadata": {},
   "outputs": [],
   "source": [
    "from module.extract.extract_line import *\n",
    "extract_line(\"/Users/VPV/Desktop/pandas/DraftCleanFile.csv\",\"prenom\",\"Alexandra\")"
   ]
  },
  {
   "cell_type": "code",
   "execution_count": null,
   "metadata": {},
   "outputs": [],
   "source": [
    "from module.extract.extract_keyword import *\n",
    "extract_keyword(\"/Users/VPV/Desktop/pandas/test.csv\")"
   ]
  },
  {
   "cell_type": "code",
   "execution_count": 9,
   "metadata": {},
   "outputs": [
    {
     "name": "stdout",
     "output_type": "stream",
     "text": [
      "False\n",
      "True\n"
     ]
    }
   ],
   "source": [
    "from email_validate import validate\n",
    "\n",
    "def is_email_valid(email):\n",
    "    result = validate(\n",
    "        email_address=email,\n",
    "        check_format=True,\n",
    "        check_blacklist=True,\n",
    "        check_dns=True,\n",
    "        dns_timeout=10,\n",
    "        check_smtp=False,\n",
    "        smtp_debug=False)\n",
    "    print (result)\n",
    "\n",
    "\n",
    "def is_email_list_valid(email_li):\n",
    "    for email in email_li:\n",
    "        is_email_valid(email)\n",
    "\n",
    "email_to_check = ['vincent','vincent@digitalebox.fr']\n",
    "\n",
    "is_email_list_valid(email_to_check)"
   ]
  },
  {
   "cell_type": "code",
   "execution_count": null,
   "metadata": {},
   "outputs": [],
   "source": []
  },
  {
   "cell_type": "code",
   "execution_count": null,
   "metadata": {},
   "outputs": [],
   "source": []
  }
 ],
 "metadata": {
  "kernelspec": {
   "display_name": "Python 3",
   "language": "python",
   "name": "python3"
  },
  "language_info": {
   "codemirror_mode": {
    "name": "ipython",
    "version": 3
   },
   "file_extension": ".py",
   "mimetype": "text/x-python",
   "name": "python",
   "nbconvert_exporter": "python",
   "pygments_lexer": "ipython3",
   "version": "3.9.8"
  }
 },
 "nbformat": 4,
 "nbformat_minor": 4
}
