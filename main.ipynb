{
 "cells": [
  {
   "cell_type": "markdown",
   "metadata": {},
   "source": [
    "# MERGE"
   ]
  },
  {
   "cell_type": "code",
   "execution_count": 1,
   "metadata": {},
   "outputs": [],
   "source": [
    "from module.merge.merge_csv import *\n",
    "merge_csv(\"/Users/vpv/Desktop/correction\")"
   ]
  },
  {
   "cell_type": "code",
   "execution_count": null,
   "metadata": {},
   "outputs": [],
   "source": [
    "from module.merge.merge_excel_sheet import *\n",
    "merge_excel_sheet(\"\")"
   ]
  },
  {
   "cell_type": "code",
   "execution_count": null,
   "metadata": {},
   "outputs": [],
   "source": [
    "from module.merge.merge_excel import *\n",
    "merge_excel(\"/Users/vpv/Desktop/20211221bjimenez/source\")"
   ]
  },
  {
   "cell_type": "code",
   "execution_count": null,
   "metadata": {},
   "outputs": [],
   "source": [
    "from module.merge.merge_on_key import merge_on_key\n",
    "merge_on_key(\n",
    "    \"/Users/vpv/Desktop/20220314YanncikNeuder/source/jpb_yn.csv\",\n",
    "    \"/Users/vpv/Desktop/20220314YanncikNeuder/source/LE.csv\")"
   ]
  },
  {
   "cell_type": "markdown",
   "metadata": {},
   "source": [
    "# CLEAN"
   ]
  },
  {
   "cell_type": "code",
   "execution_count": null,
   "metadata": {},
   "outputs": [],
   "source": [
    "from module.clean_fr.clean_electoral import clean_electoral_fr\n",
    "clean_electoral_fr(\"/Users/vpv/Desktop/pandas/DraftCsvMerge.csv\")"
   ]
  },
  {
   "cell_type": "code",
   "execution_count": null,
   "metadata": {},
   "outputs": [],
   "source": []
  },
  {
   "cell_type": "code",
   "execution_count": null,
   "metadata": {},
   "outputs": [],
   "source": [
    "from module.clean_fr.clean_file import clean_file_fr\n",
    "clean_file_fr(\"\")"
   ]
  },
  {
   "cell_type": "code",
   "execution_count": null,
   "metadata": {},
   "outputs": [],
   "source": [
    "from module.clean.clean_character import clean_character\n",
    "clean_character(\"/Users/vpv/Desktop/test.csv\")"
   ]
  },
  {
   "cell_type": "code",
   "execution_count": null,
   "metadata": {},
   "outputs": [],
   "source": [
    "from module.clean.clean_header import clean_header\n",
    "clean_header(\"/Users/VPV/Desktop/testCsv\")"
   ]
  },
  {
   "cell_type": "code",
   "execution_count": null,
   "metadata": {},
   "outputs": [],
   "source": [
    "from module.clean.autofill import autofill\n",
    "autofill(\"/Users/vpv/Desktop/20211217chaumont/draft/ELUS_CM.csv\")"
   ]
  },
  {
   "cell_type": "markdown",
   "metadata": {},
   "source": [
    "# SPLIT"
   ]
  },
  {
   "cell_type": "code",
   "execution_count": null,
   "metadata": {},
   "outputs": [],
   "source": [
    "# Encoding winlatin1\n",
    "\n",
    "from module.split.split_file import *\n",
    "split_file(\"/Users/vpv/Dropbox/Dossier 1er Contact/Base de données/Fabien Roussel/20220404LE22/draft/clean_electoral_latin1.csv\")"
   ]
  },
  {
   "cell_type": "code",
   "execution_count": null,
   "metadata": {},
   "outputs": [],
   "source": []
  },
  {
   "cell_type": "code",
   "execution_count": null,
   "metadata": {},
   "outputs": [],
   "source": []
  },
  {
   "cell_type": "markdown",
   "metadata": {},
   "source": [
    "# EXTRACT"
   ]
  },
  {
   "cell_type": "code",
   "execution_count": null,
   "metadata": {},
   "outputs": [],
   "source": [
    "from module.extract.extract_firstname_lastname import *\n",
    "extract_firstname_lastname(\"/Users/vpv/Desktop/20220118franchevilleBarrage/source/barrage et tpc.csv\")"
   ]
  },
  {
   "cell_type": "code",
   "execution_count": null,
   "metadata": {},
   "outputs": [],
   "source": [
    "from module.extract.extract_email_mobile import *\n",
    "extract_email_mobile(\"/Users/VPV/Desktop/210705tassin/draft/20210702 FAITES VALOIR VOTRE AVIS.csv\")"
   ]
  },
  {
   "cell_type": "code",
   "execution_count": null,
   "metadata": {},
   "outputs": [],
   "source": [
    "from module.extract.extract_line import *\n",
    "extract_line(\"/Users/VPV/Desktop/pandas/DraftCleanFile.csv\",\"prenom\",\"Alexandra\")"
   ]
  },
  {
   "cell_type": "code",
   "execution_count": null,
   "metadata": {},
   "outputs": [],
   "source": [
    "from module.extract.extract_keyword import *\n",
    "extract_keyword(\"/Users/vpv/Dropbox/Dossier 1er Contact/Base de données/Fabien Roussel/20220404LE22/draft/clean_electoral.csv\")"
   ]
  },
  {
   "cell_type": "code",
   "execution_count": null,
   "metadata": {},
   "outputs": [],
   "source": [
    "# simple get , no auth\n",
    "import pandas as pd\n",
    "\n",
    "api_root = \"https://api.agify.io/?\"\n",
    "parameters = \"name=vince\"\n",
    "endpoint= api_root + parameters\n",
    "\n",
    "df = pd.read_json(endpoint, orient='index')\n",
    "df\n",
    "\n"
   ]
  },
  {
   "cell_type": "code",
   "execution_count": null,
   "metadata": {},
   "outputs": [],
   "source": []
  },
  {
   "cell_type": "code",
   "execution_count": null,
   "metadata": {},
   "outputs": [],
   "source": [
    "#\n",
    "import requests\n",
    "import json\n",
    "import pandas as pd\n",
    "\n",
    "\n",
    "username = \"\"\n",
    "password = \"\"\n",
    "endpoint = \"https://api.agify.io/?\"\n",
    "parameters = {\n",
    "    \"name\": \"vincent\",\n",
    "}\n",
    "\n",
    "response = requests.get(\n",
    "  endpoint, \n",
    "  params=parameters,\n",
    "  auth=(username, password)\n",
    ")\n",
    "\n",
    "response.status_code\n",
    "response.json()\n",
    "\n"
   ]
  }
 ],
 "metadata": {
  "kernelspec": {
   "display_name": "Python 3",
   "language": "python",
   "name": "python3"
  },
  "language_info": {
   "codemirror_mode": {
    "name": "ipython",
    "version": 3
   },
   "file_extension": ".py",
   "mimetype": "text/x-python",
   "name": "python",
   "nbconvert_exporter": "python",
   "pygments_lexer": "ipython3",
   "version": "3.9.7"
  }
 },
 "nbformat": 4,
 "nbformat_minor": 4
}
