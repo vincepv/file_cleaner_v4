{
 "cells": [
  {
   "cell_type": "markdown",
   "metadata": {},
   "source": [
    "# MERGE"
   ]
  },
  {
   "cell_type": "code",
   "execution_count": 1,
   "metadata": {},
   "outputs": [],
   "source": [
    "from module.merge.merge_csv import *\n",
    "merge_csv(\"/Users/vpv/Desktop/VP2022/source/le\")"
   ]
  },
  {
   "cell_type": "code",
   "execution_count": 1,
   "metadata": {},
   "outputs": [],
   "source": [
    "from module.merge.merge_excel_sheet import *\n",
    "merge_excel_sheet(\"\")"
   ]
  },
  {
   "cell_type": "code",
   "execution_count": 2,
   "metadata": {},
   "outputs": [],
   "source": [
    "from module.merge.merge_on_first_last import *\n",
    "# file 1 and file 2 to join, join on file 1\n",
    "merge_on_first_last(\"/Users/VPV/Desktop/cd95/cd95NoKeyword.csv\",\"/Users/VPV/Desktop/cd95/bddALH.csv\")"
   ]
  },
  {
   "cell_type": "code",
   "execution_count": null,
   "metadata": {},
   "outputs": [],
   "source": [
    "from module.merge.merge_on_first_last_date import *\n",
    "merge_on_first_last_date(\"\",\"\")"
   ]
  },
  {
   "cell_type": "code",
   "execution_count": 1,
   "metadata": {},
   "outputs": [],
   "source": [
    "from module.merge.merge_excel import *\n",
    "merge_excel(\"/Users/vpv/Desktop/20211221bjimenez/source\")"
   ]
  },
  {
   "cell_type": "code",
   "execution_count": 3,
   "metadata": {},
   "outputs": [],
   "source": [
    "from module.merge.merge_on_electoral_phonebook import *\n",
    "#param 1 = electoral list and parma 2 = phonebook\n",
    "merge_on_electoral_phonebook(\"\",\"\")"
   ]
  },
  {
   "cell_type": "code",
   "execution_count": 1,
   "metadata": {},
   "outputs": [],
   "source": [
    "from module.merge.merge_on_key import merge_on_key\n",
    "merge_on_key(\"/Users/vpv/Desktop/test/presidentielle-2017-resultats-par-bureaux-de-vote-tour-2.csv\",\"/Users/vpv/Desktop/test/01canton.csv\")"
   ]
  },
  {
   "cell_type": "markdown",
   "metadata": {},
   "source": [
    "# CLEAN"
   ]
  },
  {
   "cell_type": "code",
   "execution_count": 4,
   "metadata": {},
   "outputs": [],
   "source": [
    "from module.clean_fr.clean_electoral_fr import clean_electoral_fr\n",
    "clean_electoral_fr(\"/Users/vpv/Desktop/pandas/Sympathisants.csv\")"
   ]
  },
  {
   "cell_type": "code",
   "execution_count": 2,
   "metadata": {},
   "outputs": [],
   "source": [
    "from module.clean_fr.clean_file_fr import clean_file_fr\n",
    "clean_file_fr (\"/Users/vpv/Desktop/20220118franchevilleBarrage/source/generateName.csv\")"
   ]
  },
  {
   "cell_type": "code",
   "execution_count": null,
   "metadata": {},
   "outputs": [],
   "source": [
    "from module.clean.unique_address import unique_address\n",
    "unique_address(\"\")"
   ]
  },
  {
   "cell_type": "code",
   "execution_count": 1,
   "metadata": {},
   "outputs": [],
   "source": [
    "from module.clean.clean_character import clean_character\n",
    "clean_character(\"/Users/vpv/Desktop/test.csv\")"
   ]
  },
  {
   "cell_type": "code",
   "execution_count": null,
   "metadata": {},
   "outputs": [],
   "source": [
    "from module.clean.clean_header import clean_header\n",
    "clean_header(\"/Users/VPV/Desktop/testCsv\")"
   ]
  },
  {
   "cell_type": "code",
   "execution_count": 1,
   "metadata": {},
   "outputs": [],
   "source": [
    "from module.clean.autofill import autofill\n",
    "autofill(\"/Users/vpv/Desktop/20211217chaumont/draft/ELUS_CM.csv\")"
   ]
  },
  {
   "cell_type": "markdown",
   "metadata": {},
   "source": [
    "# SPLIT"
   ]
  },
  {
   "cell_type": "code",
   "execution_count": 9,
   "metadata": {},
   "outputs": [],
   "source": [
    "# Encoding winlatin1\n",
    "\n",
    "from module.split.split_file import *\n",
    "split_file(\"/Users/vpv/Desktop/20211213lyon/import/lyon6/LE21_circo4_lyon6.csv\")"
   ]
  },
  {
   "cell_type": "markdown",
   "metadata": {},
   "source": [
    "# EXTRACT"
   ]
  },
  {
   "cell_type": "code",
   "execution_count": 1,
   "metadata": {},
   "outputs": [],
   "source": [
    "from module.extract.extract_firstname_lastname import *\n",
    "extract_firstname_lastname(\"/Users/vpv/Desktop/20220118franchevilleBarrage/source/barrage et tpc.csv\")"
   ]
  },
  {
   "cell_type": "code",
   "execution_count": null,
   "metadata": {},
   "outputs": [],
   "source": [
    "from module.extract.extract_email_mobile import *\n",
    "extract_email_mobile(\"/Users/VPV/Desktop/210705tassin/draft/20210702 FAITES VALOIR VOTRE AVIS.csv\")"
   ]
  },
  {
   "cell_type": "code",
   "execution_count": null,
   "metadata": {},
   "outputs": [],
   "source": [
    "from module.extract.extract_line import *\n",
    "extract_line(\"/Users/VPV/Desktop/pandas/DraftCleanFile.csv\",\"prenom\",\"Alexandra\")"
   ]
  },
  {
   "cell_type": "code",
   "execution_count": null,
   "metadata": {},
   "outputs": [],
   "source": [
    "from module.extract.extract_keyword import *\n",
    "extract_keyword(\"/Users/VPV/Desktop/pandas/test.csv\")"
   ]
  },
  {
   "cell_type": "markdown",
   "metadata": {},
   "source": [
    "# Convert Shapefile > GeoJson"
   ]
  },
  {
   "cell_type": "code",
   "execution_count": 1,
   "metadata": {},
   "outputs": [],
   "source": [
    "import geopandas\n",
    "\n",
    "shp_file = geopandas.read_file('/Users/vpv/Desktop/BDD_electoral_FR/ADMIN-EXPRESS_3-1__SHP__FRA_2022-01-18/ADMIN-EXPRESS/1_DONNEES_LIVRAISON_2022-01-18/ADE_3-1_SHP_WGS84G_FRA/COMMUNE.shp')\n",
    "shp_file.to_file('/Users/vpv/Desktop/city.geojson', driver='GeoJSON')"
   ]
  },
  {
   "cell_type": "code",
   "execution_count": 2,
   "metadata": {},
   "outputs": [],
   "source": [
    "import pandas as pd\n",
    "\n",
    "my_file = \"/Users/vpv/Desktop/draft.csv\"\n",
    "df = pd.read_csv(my_file, low_memory=False)\n",
    "dic_region = {\n",
    "    \n",
    "    \"971\":\t\"01\",\n",
    "    \"972\":\t\"02\",\n",
    "    \"973\":\t\"03\",\n",
    "    \"974\":\t\"04\",\n",
    "    \"976\":\t\"06\",\n",
    "    \"75\":\t\"11\",\n",
    "    \"77\":\t\"11\",\n",
    "    \"78\":\t\"11\",\n",
    "    \"91\":\t\"11\",\n",
    "    \"92\":\t\"11\",\n",
    "    \"93\":\t\"11\",\n",
    "    \"94\":\t\"11\",\n",
    "    \"95\":\t\"11\",\n",
    "    \"18\":\t\"24\",\n",
    "    \"28\":\t\"24\",\n",
    "    \"36\":\t\"24\",\n",
    "    \"37\":\t\"24\",\n",
    "    \"41\":\t\"24\",\n",
    "    \"45\":\t\"24\",\n",
    "    \"21\":\t\"27\",\n",
    "    \"25\":\t\"27\",\n",
    "    \"39\":\t\"27\",\n",
    "    \"58\":\t\"27\",\n",
    "    \"70\":\t\"27\",\n",
    "    \"71\":\t\"27\",\n",
    "    \"89\":\t\"27\",\n",
    "    \"90\":\t\"27\",\n",
    "    \"14\":\t\"28\",\n",
    "    \"27\":\t\"28\",\n",
    "    \"50\":\t\"28\",\n",
    "    \"61\":\t\"28\",\n",
    "    \"76\":\t\"28\",\n",
    "    \"02\":\t\"32\",\n",
    "    \"59\":\t\"32\",\n",
    "    \"60\":\t\"32\",\n",
    "    \"62\":\t\"32\",\n",
    "    \"80\":\t\"32\",\n",
    "    \"08\":\t\"44\",\n",
    "    \"10\":\t\"44\",\n",
    "    \"51\":\t\"44\",\n",
    "    \"52\":\t\"44\",\n",
    "    \"54\":\t\"44\",\n",
    "    \"55\":\t\"44\",\n",
    "    \"57\":\t\"44\",\n",
    "    \"67\":\t\"44\",\n",
    "    \"68\":\t\"44\",\n",
    "    \"88\":\t\"44\",\n",
    "    \"44\":\t\"52\",\n",
    "    \"49\":\t\"52\",\n",
    "    \"53\":\t\"52\",\n",
    "    \"72\":\t\"52\",\n",
    "    \"85\":\t\"52\",\n",
    "    \"22\":\t\"53\",\n",
    "    \"29\":\t\"53\",\n",
    "    \"35\":\t\"53\",\n",
    "    \"56\":\t\"53\",\n",
    "    \"16\":\t\"75\",\n",
    "    \"17\":\t\"75\",\n",
    "    \"19\":\t\"75\",\n",
    "    \"23\":\t\"75\",\n",
    "    \"24\":\t\"75\",\n",
    "    \"33\":\t\"75\",\n",
    "    \"40\":\t\"75\",\n",
    "    \"47\":\t\"75\",\n",
    "    \"64\":\t\"75\",\n",
    "    \"79\":\t\"75\",\n",
    "    \"86\":\t\"75\",\n",
    "    \"87\":\t\"75\",\n",
    "    \"09\":\t\"76\",\n",
    "    \"11\":\t\"76\",\n",
    "    \"12\":\t\"76\",\n",
    "    \"30\":\t\"76\",\n",
    "    \"31\":\t\"76\",\n",
    "    \"32\":\t\"76\",\n",
    "    \"34\":\t\"76\",\n",
    "    \"46\":\t\"76\",\n",
    "    \"48\":\t\"76\",\n",
    "    \"65\":\t\"76\",\n",
    "    \"66\":\t\"76\",\n",
    "    \"81\":\t\"76\",\n",
    "    \"82\":\t\"76\",\n",
    "    \"01\":\t\"84\",\n",
    "    \"03\":\t\"84\",\n",
    "    \"07\":\t\"84\",\n",
    "    \"15\":\t\"84\",\n",
    "    \"26\":\t\"84\",\n",
    "    \"38\":\t\"84\",\n",
    "    \"42\":\t\"84\",\n",
    "    \"43\":\t\"84\",\n",
    "    \"63\":\t\"84\",\n",
    "    \"69\":\t\"84\",\n",
    "    \"73\":\t\"84\",\n",
    "    \"74\":\t\"84\",\n",
    "    \"04\":\t\"93\",\n",
    "    \"05\":\t\"93\",\n",
    "    \"06\":\t\"93\",\n",
    "    \"13\":\t\"93\",\n",
    "    \"83\":\t\"93\",\n",
    "    \"84\":\t\"93\",\n",
    "    \"2A\":\t\"94\",\n",
    "    \"2B\":\t\"94\",\n",
    "\n",
    "}\n",
    "\n",
    "df['regionDraft'] = df['code department'].replace(dic_region, regex=True)\n",
    "\n",
    "df.to_csv(\"/Users/vpv/Desktop/departementRegion.csv\",header=True,index=False,encoding=\"utf8\",sep=',')\n"
   ]
  },
  {
   "cell_type": "code",
   "execution_count": null,
   "metadata": {},
   "outputs": [],
   "source": []
  }
 ],
 "metadata": {
  "kernelspec": {
   "display_name": "Python 3",
   "language": "python",
   "name": "python3"
  },
  "language_info": {
   "codemirror_mode": {
    "name": "ipython",
    "version": 3
   },
   "file_extension": ".py",
   "mimetype": "text/x-python",
   "name": "python",
   "nbconvert_exporter": "python",
   "pygments_lexer": "ipython3",
   "version": "3.6.13"
  }
 },
 "nbformat": 4,
 "nbformat_minor": 4
}
