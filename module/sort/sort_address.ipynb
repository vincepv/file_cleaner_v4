{
 "cells": [
  {
   "cell_type": "code",
   "execution_count": 8,
   "metadata": {},
   "outputs": [],
   "source": [
    "import pandas as pd\n",
    "my_file = '/Users/VPV/Desktop/test/backupDijon1.csv' \n",
    "df = pd.read_csv(my_file)\n",
    "\n",
    "#extract number and address in column\n",
    "\n",
    "df['street']=df['Address'].str.split(pat=\"^\\d*\")\n",
    "df['number']=df['Address'].str.split(pat=\"\\D\")\n",
    "\n",
    "\n",
    "# change to string for cleaning\n",
    "\n",
    "df['street']=df['street'].astype(str)\n",
    "df['number']=df['number'].astype(str)\n",
    "\n",
    "\n",
    "# clean column\n",
    "\n",
    "clean_address = [\n",
    "    \"-\",\n",
    "    \",\",\n",
    "    \"\\[\",\n",
    "    \"\\]\",\n",
    "    \"\\\"\",\n",
    "    \"\\'\",\n",
    "    \"     \",\n",
    "    \"    \",\n",
    "    \"   \",\n",
    "    \"  \",\n",
    "]\n",
    "\n",
    "prefix = [\n",
    "    ' A ',\n",
    "    ' B ',\n",
    "    ' C ',\n",
    "    ' D ',\n",
    "    ' Bis ',\n",
    "    ' BIS ',\n",
    "    ' Ter ',\n",
    "    ' TER ',\n",
    "]\n",
    "\n",
    "# remove prefix in street BIS TER T B A \n",
    "\n",
    "df['number']=df['number'].replace(clean_address,'',regex=True)\n",
    "\n",
    "df['street']=df['street'].replace(clean_address,'',regex=True)\n",
    "\n",
    "\n",
    "#change street to int for sorting \n",
    "df['number'] = pd.to_numeric(df['number'],errors='coerce')\n",
    "\n",
    "# sort first by street then by number\n",
    "df=df.sort_values(by=['street','number'])\n",
    "\n",
    "# create file csv with sort address\n",
    "df.to_csv(\"/Users/VPV/Desktop/Out.csv\",header=True,index=False,encoding=\"utf8\")\n",
    "\n"
   ]
  },
  {
   "cell_type": "code",
   "execution_count": null,
   "metadata": {},
   "outputs": [],
   "source": []
  },
  {
   "cell_type": "code",
   "execution_count": null,
   "metadata": {},
   "outputs": [],
   "source": []
  },
  {
   "cell_type": "code",
   "execution_count": null,
   "metadata": {},
   "outputs": [],
   "source": []
  },
  {
   "cell_type": "code",
   "execution_count": null,
   "metadata": {},
   "outputs": [],
   "source": []
  },
  {
   "cell_type": "code",
   "execution_count": null,
   "metadata": {},
   "outputs": [],
   "source": []
  },
  {
   "cell_type": "code",
   "execution_count": null,
   "metadata": {},
   "outputs": [],
   "source": []
  },
  {
   "cell_type": "code",
   "execution_count": null,
   "metadata": {},
   "outputs": [],
   "source": []
  },
  {
   "cell_type": "code",
   "execution_count": null,
   "metadata": {},
   "outputs": [],
   "source": []
  },
  {
   "cell_type": "code",
   "execution_count": null,
   "metadata": {},
   "outputs": [],
   "source": []
  },
  {
   "cell_type": "code",
   "execution_count": null,
   "metadata": {},
   "outputs": [],
   "source": []
  },
  {
   "cell_type": "code",
   "execution_count": null,
   "metadata": {},
   "outputs": [],
   "source": []
  },
  {
   "cell_type": "code",
   "execution_count": null,
   "metadata": {},
   "outputs": [],
   "source": []
  },
  {
   "cell_type": "code",
   "execution_count": null,
   "metadata": {},
   "outputs": [],
   "source": []
  },
  {
   "cell_type": "code",
   "execution_count": null,
   "metadata": {},
   "outputs": [],
   "source": []
  },
  {
   "cell_type": "code",
   "execution_count": null,
   "metadata": {},
   "outputs": [],
   "source": []
  },
  {
   "cell_type": "code",
   "execution_count": null,
   "metadata": {},
   "outputs": [],
   "source": []
  },
  {
   "cell_type": "code",
   "execution_count": null,
   "metadata": {},
   "outputs": [],
   "source": []
  },
  {
   "cell_type": "code",
   "execution_count": null,
   "metadata": {},
   "outputs": [],
   "source": []
  },
  {
   "cell_type": "code",
   "execution_count": null,
   "metadata": {},
   "outputs": [],
   "source": []
  },
  {
   "cell_type": "code",
   "execution_count": null,
   "metadata": {},
   "outputs": [],
   "source": []
  },
  {
   "cell_type": "code",
   "execution_count": null,
   "metadata": {},
   "outputs": [],
   "source": []
  },
  {
   "cell_type": "code",
   "execution_count": null,
   "metadata": {},
   "outputs": [],
   "source": []
  },
  {
   "cell_type": "code",
   "execution_count": null,
   "metadata": {},
   "outputs": [],
   "source": []
  },
  {
   "cell_type": "code",
   "execution_count": null,
   "metadata": {},
   "outputs": [],
   "source": []
  },
  {
   "cell_type": "code",
   "execution_count": null,
   "metadata": {},
   "outputs": [],
   "source": []
  },
  {
   "cell_type": "code",
   "execution_count": 5,
   "metadata": {},
   "outputs": [],
   "source": [
    "import pandas as pd\n",
    "my_file = '/Users/VPV/Desktop/test/backupDijon1.csv' \n",
    "df = pd.read_csv(my_file)\n",
    "\n",
    "#extract number and address in column\n",
    "\n",
    "df['street']=df['Address'].str.split(pat=\"^\\d*\")\n",
    "df['number']=df['Address'].str.split(pat=\"\\D\")\n",
    "\n",
    "df.to_csv(\"/Users/VPV/Desktop/Out.csv\",header=True,index=False,encoding=\"utf8\")\n"
   ]
  },
  {
   "cell_type": "code",
   "execution_count": null,
   "metadata": {},
   "outputs": [],
   "source": []
  },
  {
   "cell_type": "code",
   "execution_count": null,
   "metadata": {},
   "outputs": [],
   "source": []
  },
  {
   "cell_type": "code",
   "execution_count": null,
   "metadata": {},
   "outputs": [],
   "source": []
  },
  {
   "cell_type": "code",
   "execution_count": null,
   "metadata": {},
   "outputs": [],
   "source": []
  },
  {
   "cell_type": "code",
   "execution_count": null,
   "metadata": {},
   "outputs": [],
   "source": []
  },
  {
   "cell_type": "code",
   "execution_count": null,
   "metadata": {},
   "outputs": [],
   "source": []
  },
  {
   "cell_type": "code",
   "execution_count": null,
   "metadata": {},
   "outputs": [],
   "source": []
  },
  {
   "cell_type": "code",
   "execution_count": null,
   "metadata": {},
   "outputs": [],
   "source": []
  },
  {
   "cell_type": "code",
   "execution_count": null,
   "metadata": {},
   "outputs": [],
   "source": []
  },
  {
   "cell_type": "code",
   "execution_count": null,
   "metadata": {},
   "outputs": [],
   "source": []
  },
  {
   "cell_type": "code",
   "execution_count": null,
   "metadata": {},
   "outputs": [],
   "source": []
  },
  {
   "cell_type": "code",
   "execution_count": null,
   "metadata": {},
   "outputs": [],
   "source": []
  },
  {
   "cell_type": "code",
   "execution_count": null,
   "metadata": {},
   "outputs": [],
   "source": [
    "#digit + street\n",
    "1 avenue de la mairie\n",
    "\n",
    "# digit+ prefix + street\n",
    "11 bis avenue de la mairie\n",
    "11 ter avenue de la mairie\n",
    "\n",
    "\n",
    "23A avenue de la mairie\n",
    "23B avenue de la mairie\n",
    "23C avenue de la mairie\n",
    "\n",
    "# 2 digit + street\n",
    "118-120 avenue de la mairie\n",
    "23-27 boulevard du palais\n",
    "23/27 boulevard du palais\n",
    "\n",
    "#No digit, only street\n",
    "\n",
    "Centre commercial\n",
    "Mairie\n",
    "Place de la mairie\n",
    "Place du village\n",
    "ZAC zone industrielle\n",
    "ZAC zone industrielle"
   ]
  },
  {
   "cell_type": "code",
   "execution_count": null,
   "metadata": {},
   "outputs": [],
   "source": []
  },
  {
   "cell_type": "code",
   "execution_count": null,
   "metadata": {},
   "outputs": [],
   "source": []
  },
  {
   "cell_type": "code",
   "execution_count": null,
   "metadata": {},
   "outputs": [],
   "source": []
  },
  {
   "cell_type": "code",
   "execution_count": null,
   "metadata": {},
   "outputs": [],
   "source": []
  },
  {
   "cell_type": "code",
   "execution_count": null,
   "metadata": {},
   "outputs": [],
   "source": []
  },
  {
   "cell_type": "code",
   "execution_count": null,
   "metadata": {},
   "outputs": [],
   "source": []
  }
 ],
 "metadata": {
  "kernelspec": {
   "display_name": "Python 3",
   "language": "python",
   "name": "python3"
  },
  "language_info": {
   "codemirror_mode": {
    "name": "ipython",
    "version": 3
   },
   "file_extension": ".py",
   "mimetype": "text/x-python",
   "name": "python",
   "nbconvert_exporter": "python",
   "pygments_lexer": "ipython3",
   "version": "3.8.5"
  }
 },
 "nbformat": 4,
 "nbformat_minor": 4
}
