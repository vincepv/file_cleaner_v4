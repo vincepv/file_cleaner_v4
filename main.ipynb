{
 "cells": [
  {
   "cell_type": "markdown",
   "metadata": {},
   "source": [
    "# MERGE"
   ]
  },
  {
   "cell_type": "code",
   "execution_count": 1,
   "metadata": {},
   "outputs": [],
   "source": [
    "from module.merge.merge_csv import *\n",
    "merge_csv(\"/Users/vpv/Desktop/correction\")"
   ]
  },
  {
   "cell_type": "code",
   "execution_count": null,
   "metadata": {},
   "outputs": [],
   "source": [
    "from module.merge.merge_excel_sheet import *\n",
    "merge_excel_sheet(\"\")"
   ]
  },
  {
   "cell_type": "code",
   "execution_count": null,
   "metadata": {},
   "outputs": [],
   "source": [
    "from module.merge.merge_excel import *\n",
    "merge_excel(\"/Users/vpv/Desktop/20211221bjimenez/source\")"
   ]
  },
  {
   "cell_type": "code",
   "execution_count": null,
   "metadata": {},
   "outputs": [],
   "source": [
    "from module.merge.merge_on_key import merge_on_key\n",
    "merge_on_key(\n",
    "    \"/Users/vpv/Desktop/20220314YanncikNeuder/source/jpb_yn.csv\",\n",
    "    \"/Users/vpv/Desktop/20220314YanncikNeuder/source/LE.csv\")"
   ]
  },
  {
   "cell_type": "markdown",
   "metadata": {},
   "source": [
    "# CLEAN"
   ]
  },
  {
   "cell_type": "code",
   "execution_count": null,
   "metadata": {},
   "outputs": [],
   "source": [
    "from module.clean_fr.clean_electoral import clean_electoral_fr\n",
    "clean_electoral_fr(\"/Users/vpv/Desktop/pandas/DraftCsvMerge.csv\")"
   ]
  },
  {
   "cell_type": "code",
   "execution_count": 1,
   "metadata": {},
   "outputs": [],
   "source": [
    "from module.clean_fr.clean_file import clean_file_fr\n",
    "clean_file_fr(\"/Users/vpv/Desktop/20220407dijon/source/RCIRCO1 pour DB.csv\")"
   ]
  },
  {
   "cell_type": "code",
   "execution_count": null,
   "metadata": {},
   "outputs": [],
   "source": []
  },
  {
   "cell_type": "code",
   "execution_count": null,
   "metadata": {},
   "outputs": [],
   "source": []
  },
  {
   "cell_type": "code",
   "execution_count": null,
   "metadata": {},
   "outputs": [],
   "source": []
  },
  {
   "cell_type": "code",
   "execution_count": null,
   "metadata": {},
   "outputs": [],
   "source": [
    "from module.clean.clean_character import clean_character\n",
    "clean_character(\"/Users/vpv/Desktop/test.csv\")"
   ]
  },
  {
   "cell_type": "code",
   "execution_count": null,
   "metadata": {},
   "outputs": [],
   "source": [
    "from module.clean.clean_header import clean_header\n",
    "clean_header(\"/Users/VPV/Desktop/testCsv\")"
   ]
  },
  {
   "cell_type": "code",
   "execution_count": null,
   "metadata": {},
   "outputs": [],
   "source": [
    "from module.clean.autofill import autofill\n",
    "autofill(\"/Users/vpv/Desktop/20211217chaumont/draft/ELUS_CM.csv\")"
   ]
  },
  {
   "cell_type": "markdown",
   "metadata": {},
   "source": [
    "# SPLIT"
   ]
  },
  {
   "cell_type": "code",
   "execution_count": null,
   "metadata": {},
   "outputs": [],
   "source": [
    "# Encoding winlatin1\n",
    "\n",
    "from module.split.split_file import *\n",
    "split_file(\"/Users/vpv/Dropbox/Dossier 1er Contact/Base de données/Fabien Roussel/20220404LE22/draft/clean_electoral_latin1.csv\")"
   ]
  },
  {
   "cell_type": "markdown",
   "metadata": {},
   "source": [
    "# EXTRACT"
   ]
  },
  {
   "cell_type": "code",
   "execution_count": null,
   "metadata": {},
   "outputs": [],
   "source": [
    "from module.extract.extract_firstname_lastname import *\n",
    "extract_firstname_lastname(\"/Users/vpv/Desktop/20220118franchevilleBarrage/source/barrage et tpc.csv\")"
   ]
  },
  {
   "cell_type": "code",
   "execution_count": null,
   "metadata": {},
   "outputs": [],
   "source": [
    "from module.extract.extract_email_mobile import *\n",
    "extract_email_mobile(\"/Users/VPV/Desktop/210705tassin/draft/20210702 FAITES VALOIR VOTRE AVIS.csv\")"
   ]
  },
  {
   "cell_type": "code",
   "execution_count": null,
   "metadata": {},
   "outputs": [],
   "source": [
    "from module.extract.extract_line import *\n",
    "extract_line(\"/Users/VPV/Desktop/pandas/DraftCleanFile.csv\",\"prenom\",\"Alexandra\")"
   ]
  },
  {
   "cell_type": "code",
   "execution_count": null,
   "metadata": {},
   "outputs": [],
   "source": [
    "from module.extract.extract_keyword import *\n",
    "extract_keyword(\"/Users/vpv/Dropbox/Dossier 1er Contact/Base de données/Fabien Roussel/20220404LE22/draft/clean_electoral.csv\")"
   ]
  }
 ],
 "metadata": {
  "kernelspec": {
   "display_name": "Python 3",
   "language": "python",
   "name": "python3"
  },
  "language_info": {
   "codemirror_mode": {
    "name": "ipython",
    "version": 3
   },
   "file_extension": ".py",
   "mimetype": "text/x-python",
   "name": "python",
   "nbconvert_exporter": "python",
   "pygments_lexer": "ipython3",
   "version": "3.9.7"
  }
 },
 "nbformat": 4,
 "nbformat_minor": 4
}
